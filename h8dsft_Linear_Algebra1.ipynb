{
 "cells": [
  {
   "cell_type": "markdown",
   "metadata": {},
   "source": [
    "# Non Graded Challenge 4"
   ]
  },
  {
   "cell_type": "markdown",
   "metadata": {},
   "source": [
    "Week 2 Day 2 - Linear Algebra (Vector)\n",
    "<br>\n",
    "Nama: Karina Utomo\n",
    "<br>\n",
    "Hacktiv8 Full Time Data Science Batch 003"
   ]
  },
  {
   "cell_type": "markdown",
   "metadata": {},
   "source": [
    "# Assignment Instructions"
   ]
  },
  {
   "cell_type": "markdown",
   "metadata": {},
   "source": [
    "1. Membuat vektor dengan python\n",
    "2. Membuat vektor A, B, C dan menghitung\n",
    "    - A + B\n",
    "    - B - C\n",
    "    - A dot C\n",
    "    - A x B\n",
    "    - Norm A\n",
    "    - Sudut antara vektor A dan B\n",
    "3. Membuat plot vektor pada bidang 2D"
   ]
  },
  {
   "cell_type": "markdown",
   "metadata": {},
   "source": [
    "# Assignment Program"
   ]
  },
  {
   "cell_type": "code",
   "execution_count": 1,
   "metadata": {},
   "outputs": [],
   "source": [
    "import numpy as np\n",
    "import pandas as pd\n",
    "import matplotlib.pyplot as plt"
   ]
  },
  {
   "cell_type": "markdown",
   "metadata": {},
   "source": [
    "**1. Buatlah vektor di bawah ini dengan python**\n",
    "\n",
    "$\\begin{pmatrix}\n",
    "17 \\\\\n",
    "22 \\\\\n",
    "19 \n",
    "\\end{pmatrix}$"
   ]
  },
  {
   "cell_type": "code",
   "execution_count": 2,
   "metadata": {},
   "outputs": [
    {
     "data": {
      "text/plain": [
       "array([17, 22, 19])"
      ]
     },
     "execution_count": 2,
     "metadata": {},
     "output_type": "execute_result"
    }
   ],
   "source": [
    "np.array([17, 22, 19])"
   ]
  },
  {
   "cell_type": "markdown",
   "metadata": {},
   "source": [
    "***\n",
    "**2. Diberikan 3 vektor 3 dimensi:**\n",
    "\n",
    "**A** $= \\begin{pmatrix}\n",
    "17 \\\\\n",
    "22 \\\\\n",
    "19 \n",
    "\\end{pmatrix}$\n",
    "**B** $= \\begin{pmatrix}\n",
    "10 \\\\\n",
    "20 \\\\\n",
    "11 \n",
    "\\end{pmatrix}$\n",
    "**C** $= \\begin{pmatrix}\n",
    "5 \\\\\n",
    "12 \\\\\n",
    "9\n",
    "\\end{pmatrix}$"
   ]
  },
  {
   "cell_type": "code",
   "execution_count": 3,
   "metadata": {},
   "outputs": [],
   "source": [
    "A = np.array([17, 22, 19])\n",
    "B = np.array([10, 20, 11])\n",
    "C = np.array([5, 12, 9])"
   ]
  },
  {
   "cell_type": "markdown",
   "metadata": {},
   "source": [
    "Hitunglah:\n",
    "\n",
    "- A + B\n",
    "- B - C\n",
    "- A dot C\n",
    "- A x B\n",
    "- Norm A\n",
    "- Sudut antara vektor A dan B"
   ]
  },
  {
   "cell_type": "code",
   "execution_count": 4,
   "metadata": {},
   "outputs": [
    {
     "data": {
      "text/plain": [
       "array([27, 42, 30])"
      ]
     },
     "execution_count": 4,
     "metadata": {},
     "output_type": "execute_result"
    }
   ],
   "source": [
    "A + B"
   ]
  },
  {
   "cell_type": "markdown",
   "metadata": {},
   "source": [
    "Hasil penjumlahan vektor A dan B adalah:\n",
    "\n",
    "$\\textbf{A} + \\textbf{B}= \n",
    "\\begin{pmatrix}\n",
    "17 \\\\\n",
    "22 \\\\\n",
    "19 \n",
    "\\end{pmatrix} +\n",
    "\\begin{pmatrix}\n",
    "10 \\\\\n",
    "20 \\\\\n",
    "11 \n",
    "\\end{pmatrix} =\n",
    "\\begin{pmatrix}\n",
    "27 \\\\\n",
    "42 \\\\\n",
    "30 \n",
    "\\end{pmatrix}$"
   ]
  },
  {
   "cell_type": "code",
   "execution_count": 5,
   "metadata": {},
   "outputs": [
    {
     "data": {
      "text/plain": [
       "array([5, 8, 2])"
      ]
     },
     "execution_count": 5,
     "metadata": {},
     "output_type": "execute_result"
    }
   ],
   "source": [
    "B - C"
   ]
  },
  {
   "cell_type": "markdown",
   "metadata": {},
   "source": [
    "Hasil pengurangan vektor B oleh C adalah:\n",
    "\n",
    "$\\textbf{B} - \\textbf{C}= \n",
    "\\begin{pmatrix}\n",
    "10 \\\\\n",
    "20 \\\\\n",
    "11 \n",
    "\\end{pmatrix} -\n",
    "\\begin{pmatrix}\n",
    "5 \\\\\n",
    "12 \\\\\n",
    "9\n",
    "\\end{pmatrix} =\n",
    "\\begin{pmatrix}\n",
    "5 \\\\\n",
    "8 \\\\\n",
    "2 \n",
    "\\end{pmatrix}$"
   ]
  },
  {
   "cell_type": "code",
   "execution_count": 6,
   "metadata": {},
   "outputs": [
    {
     "data": {
      "text/plain": [
       "520"
      ]
     },
     "execution_count": 6,
     "metadata": {},
     "output_type": "execute_result"
    }
   ],
   "source": [
    "A@C"
   ]
  },
  {
   "cell_type": "markdown",
   "metadata": {},
   "source": [
    "Dot product vektor A dengan C adalah:\n",
    "\n",
    "$\\textbf{A} \\cdot \\textbf{C} = \n",
    "\\begin{pmatrix}\n",
    "17 \\\\\n",
    "22 \\\\\n",
    "19 \n",
    "\\end{pmatrix} \\cdot\n",
    "\\begin{pmatrix}\n",
    "5 \\\\\n",
    "12 \\\\\n",
    "9\n",
    "\\end{pmatrix} = 520\n",
    "$"
   ]
  },
  {
   "cell_type": "code",
   "execution_count": 7,
   "metadata": {},
   "outputs": [
    {
     "data": {
      "text/plain": [
       "array([ 85, 264, 171])"
      ]
     },
     "execution_count": 7,
     "metadata": {},
     "output_type": "execute_result"
    }
   ],
   "source": [
    "A * C"
   ]
  },
  {
   "cell_type": "markdown",
   "metadata": {},
   "source": [
    "Hasil perkalian vektor A dengan C adalah:\n",
    "\n",
    "$\\textbf{A} \\times \\textbf{C}= \n",
    "\\begin{pmatrix}\n",
    "17 \\\\\n",
    "22 \\\\\n",
    "19 \n",
    "\\end{pmatrix} \\times\n",
    "\\begin{pmatrix}\n",
    "5 \\\\\n",
    "12 \\\\\n",
    "9\n",
    "\\end{pmatrix} =\n",
    "\\begin{pmatrix}\n",
    "85 \\\\\n",
    "264 \\\\\n",
    "171\n",
    "\\end{pmatrix}\n",
    "$"
   ]
  },
  {
   "cell_type": "code",
   "execution_count": 8,
   "metadata": {},
   "outputs": [
    {
     "data": {
      "text/plain": [
       "33.67491648096547"
      ]
     },
     "execution_count": 8,
     "metadata": {},
     "output_type": "execute_result"
    }
   ],
   "source": [
    "np.linalg.norm(A)"
   ]
  },
  {
   "cell_type": "markdown",
   "metadata": {},
   "source": [
    "Norm dari vektor A adalah:\n",
    "\n",
    "$\\left \\Vert \\textbf{A} \\right \\| = 33.67$"
   ]
  },
  {
   "cell_type": "code",
   "execution_count": 9,
   "metadata": {},
   "outputs": [
    {
     "name": "stdout",
     "output_type": "stream",
     "text": [
      "Sudut = 0.21971776576153912 radian = 12.588900662180214 derajat\n"
     ]
    }
   ],
   "source": [
    "def angle(A, B):\n",
    "    cos_theta = A@B / np.linalg.norm(A) / np.linalg.norm(B)\n",
    "    return np.arccos(np.clip(cos_theta, -1, 1))\n",
    "\n",
    "theta = angle(A, B)\n",
    "print('Sudut =', theta, 'radian =', theta * 180 / np.pi, 'derajat')"
   ]
  },
  {
   "cell_type": "markdown",
   "metadata": {},
   "source": [
    "Sudut antara vektor A dan B adalah:\n",
    "\n",
    "$\\theta = 0.22$ $\\text{radian} = 12.59$ $\\text{derajat}$"
   ]
  },
  {
   "cell_type": "markdown",
   "metadata": {},
   "source": [
    "***\n",
    "**3. Buatlah plot dari vektor berikut ini dalam bidang 2D**\n",
    "\n",
    "**u** $= \\begin{pmatrix}\n",
    "2 \\\\\n",
    "5 \\\\\n",
    "\\end{pmatrix}$\n",
    "**v** $= \\begin{pmatrix}\n",
    "3 \\\\\n",
    "1 \\\\\n",
    "\\end{pmatrix}$"
   ]
  },
  {
   "cell_type": "code",
   "execution_count": 10,
   "metadata": {},
   "outputs": [],
   "source": [
    "u = np.array([2, 5])\n",
    "v = np.array([3, 1])"
   ]
  },
  {
   "cell_type": "markdown",
   "metadata": {},
   "source": [
    "Plot titik dari vektor:"
   ]
  },
  {
   "cell_type": "code",
   "execution_count": 11,
   "metadata": {},
   "outputs": [
    {
     "data": {
      "image/png": "[encoded data removed]",
      "text/plain": [
       "<Figure size 432x288 with 1 Axes>"
      ]
     },
     "metadata": {
      "needs_background": "light"
     },
     "output_type": "display_data"
    }
   ],
   "source": [
    "x_coords, y_coords = zip(u, v)\n",
    "plt.scatter(x_coords, y_coords, color = ['orchid','mediumpurple'])\n",
    "plt.annotate('u', (2.1, 5), size = 13, color = 'orchid')\n",
    "plt.annotate('v', (3.1, 1), size = 13, color = 'mediumpurple')\n",
    "plt.axis([0, 7, 0, 6])\n",
    "plt.grid()\n",
    "plt.show()"
   ]
  },
  {
   "cell_type": "markdown",
   "metadata": {},
   "source": [
    "Plot vektor dalam bentuk anak panah:"
   ]
  },
  {
   "cell_type": "code",
   "execution_count": 12,
   "metadata": {},
   "outputs": [],
   "source": [
    "def plt_vector2d(vector2d, origin=[0, 0], **options):\n",
    "    return plt.arrow(origin[0], origin[1], vector2d[0], vector2d[1],\n",
    "              head_width=0.2, head_length=0.3, length_includes_head=True,\n",
    "              **options)"
   ]
  },
  {
   "cell_type": "code",
   "execution_count": 13,
   "metadata": {},
   "outputs": [
    {
     "data": {
      "image/png": "[encoded data removed]",
      "text/plain": [
       "<Figure size 432x288 with 1 Axes>"
      ]
     },
     "metadata": {
      "needs_background": "light"
     },
     "output_type": "display_data"
    }
   ],
   "source": [
    "plt_vector2d(u, color='orchid')\n",
    "plt_vector2d(v, color='mediumpurple')\n",
    "plt.annotate('u', (2.05, 5), size = 13, color = 'orchid')\n",
    "plt.annotate('v', (3.05, 1), size = 13, color = 'mediumpurple')\n",
    "plt.axis([0, 7, 0, 6])\n",
    "plt.grid()\n",
    "plt.show()"
   ]
  },
  {
   "cell_type": "code",
   "execution_count": null,
   "metadata": {},
   "outputs": [],
   "source": []
  }
 ],
 "metadata": {
  "kernelspec": {
   "display_name": "Python 3",
   "language": "python",
   "name": "python3"
  },
  "language_info": {
   "codemirror_mode": {
    "name": "ipython",
    "version": 3
   },
   "file_extension": ".py",
   "mimetype": "text/x-python",
   "name": "python",
   "nbconvert_exporter": "python",
   "pygments_lexer": "ipython3",
   "version": "3.8.3"
  }
 },
 "nbformat": 4,
 "nbformat_minor": 4
}
